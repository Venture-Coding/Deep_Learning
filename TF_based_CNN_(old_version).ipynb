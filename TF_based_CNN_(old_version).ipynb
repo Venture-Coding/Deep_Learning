{
  "nbformat": 4,
  "nbformat_minor": 0,
  "metadata": {
    "colab": {
      "name": "TF based CNN (old version).ipynb",
      "provenance": [],
      "authorship_tag": "ABX9TyPSmBRBIsslubCxe58r+eCo",
      "include_colab_link": true
    },
    "kernelspec": {
      "name": "python3",
      "display_name": "Python 3"
    },
    "language_info": {
      "name": "python"
    }
  },
  "cells": [
    {
      "cell_type": "markdown",
      "metadata": {
        "id": "view-in-github",
        "colab_type": "text"
      },
      "source": [
        "<a href=\"https://colab.research.google.com/github/Venture-Coding/Deep_Learning/blob/main/TF_based_CNN_(old_version).ipynb\" target=\"_parent\"><img src=\"https://colab.research.google.com/assets/colab-badge.svg\" alt=\"Open In Colab\"/></a>"
      ]
    },
    {
      "cell_type": "code",
      "execution_count": null,
      "metadata": {
        "id": "56Tiw3Zpb6Ow"
      },
      "outputs": [],
      "source": [
        "import os\n",
        "import tensorflow as tf\n",
        "import pandas as pd\n",
        "from sklearn.preprocessing import MinMaxScaler\n"
      ]
    },
    {
      "cell_type": "markdown",
      "source": [
        "### Data Preproc"
      ],
      "metadata": {
        "id": "pCi-j-42ejvj"
      }
    },
    {
      "cell_type": "code",
      "source": [
        "\n",
        "# Turn off TensorFlow warning messages in program output\n",
        "os.environ['TF_CPP_MIN_LOG_LEVEL'] = '2'\n",
        "\n",
        "# Load training data set from CSV file\n",
        "training_data_df = pd.read_csv(\"sales_data_training.csv\", dtype=float)\n",
        "\n",
        "# Pull out columns for X (data to train with) and Y (value to predict)\n",
        "X_training = training_data_df.drop('total_earnings', axis=1).values\n",
        "Y_training = training_data_df[['total_earnings']].values\n",
        "\n",
        "# Load testing data set from CSV file\n",
        "test_data_df = pd.read_csv(\"sales_data_test.csv\", dtype=float)\n",
        "\n",
        "# Pull out columns for X (data to train with) and Y (value to predict)\n",
        "X_testing = test_data_df.drop('total_earnings', axis=1).values\n",
        "Y_testing = test_data_df[['total_earnings']].values\n",
        "\n"
      ],
      "metadata": {
        "id": "u0JwCwHScXFv"
      },
      "execution_count": null,
      "outputs": []
    },
    {
      "cell_type": "code",
      "source": [
        "# All data needs to be scaled to a small range like 0 to 1 for the neural\n",
        "# network to work well. Create scalers for the inputs and outputs.\n",
        "X_scaler = MinMaxScaler(feature_range=(0, 1))\n",
        "Y_scaler = MinMaxScaler(feature_range=(0, 1))\n",
        "\n",
        "# Scale both the training inputs and outputs\n",
        "X_scaled_training = X_scaler.fit_transform(X_training)\n",
        "Y_scaled_training = Y_scaler.fit_transform(Y_training)\n",
        "\n",
        "# It's very important that the training and test data are scaled with the same scaler.\n",
        "X_scaled_testing = X_scaler.transform(X_testing)\n",
        "Y_scaled_testing = Y_scaler.transform(Y_testing)\n",
        "\n"
      ],
      "metadata": {
        "id": "EoiP6yCQcbP3"
      },
      "execution_count": null,
      "outputs": []
    },
    {
      "cell_type": "markdown",
      "source": [
        "### Model Creation"
      ],
      "metadata": {
        "id": "hYTfYKLnes6l"
      }
    },
    {
      "cell_type": "code",
      "source": [
        "# Define model parameters\n",
        "learning_rate = 0.001\n",
        "training_epochs = 100\n",
        "\n",
        "# Define how many inputs and outputs are in our neural network\n",
        "number_of_inputs = 9\n",
        "number_of_outputs = 1\n",
        "\n",
        "# Define how many neurons we want in each layer of our neural network\n",
        "layer_1_nodes = 50\n",
        "layer_2_nodes = 100\n",
        "layer_3_nodes = 50\n",
        "\n"
      ],
      "metadata": {
        "id": "8SQ1nbqecfgO"
      },
      "execution_count": null,
      "outputs": []
    },
    {
      "cell_type": "markdown",
      "source": [
        "Defining Layers."
      ],
      "metadata": {
        "id": "zxDZ_TXpex-b"
      }
    },
    {
      "cell_type": "code",
      "source": [
        "# Section One: Define the layers of the neural network itself\n",
        "\n",
        "# Input Layer\n",
        "with tf.variable_scope('input'):\n",
        "    X = tf.placeholder(tf.float32, shape=(None, number_of_inputs))\n",
        "\n",
        "# Layer 1\n",
        "with tf.variable_scope('layer_1'):\n",
        "    weights = tf.get_variable(\"weights1\", shape=[number_of_inputs, layer_1_nodes], initializer=tf.contrib.layers.xavier_initializer())\n",
        "    biases = tf.get_variable(name=\"biases1\", shape=[layer_1_nodes], initializer=tf.zeros_initializer())\n",
        "    layer_1_output = tf.nn.relu(tf.matmul(X, weights) + biases)\n",
        "\n",
        "# Layer 2\n",
        "with tf.variable_scope('layer_2'):\n",
        "    weights = tf.get_variable(\"weights2\", shape=[layer_1_nodes, layer_2_nodes], initializer=tf.contrib.layers.xavier_initializer())\n",
        "    biases = tf.get_variable(name=\"biases2\", shape=[layer_2_nodes], initializer=tf.zeros_initializer())\n",
        "    layer_2_output = tf.nn.relu(tf.matmul(layer_1_output, weights) + biases)\n",
        "\n",
        "# Layer 3\n",
        "with tf.variable_scope('layer_3'):\n",
        "    weights = tf.get_variable(\"weights3\", shape=[layer_2_nodes, layer_3_nodes], initializer=tf.contrib.layers.xavier_initializer())\n",
        "    biases = tf.get_variable(name=\"biases3\", shape=[layer_3_nodes], initializer=tf.zeros_initializer())\n",
        "    layer_3_output = tf.nn.relu(tf.matmul(layer_2_output, weights) + biases)\n",
        "\n",
        "# Output Layer\n",
        "with tf.variable_scope('output'):\n",
        "    weights = tf.get_variable(\"weights4\", shape=[layer_3_nodes, number_of_outputs], initializer=tf.contrib.layers.xavier_initializer())\n",
        "    biases = tf.get_variable(name=\"biases4\", shape=[number_of_outputs], initializer=tf.zeros_initializer())\n",
        "    prediction = tf.matmul(layer_3_output, weights) + biases\n",
        "\n"
      ],
      "metadata": {
        "id": "HKpNUhNDcky2"
      },
      "execution_count": null,
      "outputs": []
    },
    {
      "cell_type": "markdown",
      "source": [
        "Cost Function"
      ],
      "metadata": {
        "id": "LNa0hMoye3YB"
      }
    },
    {
      "cell_type": "code",
      "source": [
        "# Section Two: Define the cost function of the neural network that will measure prediction accuracy during training\n",
        "\n",
        "with tf.variable_scope('cost'):\n",
        "    Y = tf.placeholder(tf.float32, shape=(None, 1))\n",
        "    cost = tf.reduce_mean(tf.squared_difference(prediction, Y))\n",
        "\n"
      ],
      "metadata": {
        "id": "mhXkR0WvcpD0"
      },
      "execution_count": null,
      "outputs": []
    },
    {
      "cell_type": "markdown",
      "source": [
        "Optimizer"
      ],
      "metadata": {
        "id": "QcrMrNple691"
      }
    },
    {
      "cell_type": "code",
      "source": [
        "# Section Three: Define the optimizer function that will be run to optimize the neural network\n",
        "\n",
        "with tf.variable_scope('train'):\n",
        "    optimizer = tf.train.AdamOptimizer(learning_rate).minimize(cost)\n",
        "\n"
      ],
      "metadata": {
        "id": "hsdkuXDFcvK1"
      },
      "execution_count": null,
      "outputs": []
    },
    {
      "cell_type": "markdown",
      "source": [
        "Logging"
      ],
      "metadata": {
        "id": "8I3IMFWJe-Vu"
      }
    },
    {
      "cell_type": "code",
      "source": [
        "# Create a summary operation to log the progress of the network\n",
        "with tf.variable_scope('logging'):\n",
        "    tf.summary.scalar('current_cost', cost)\n",
        "    summary = tf.summary.merge_all()\n",
        "\n",
        "saver = tf.train.Saver()\n",
        "\n"
      ],
      "metadata": {
        "id": "haJRtXF2cyUb"
      },
      "execution_count": null,
      "outputs": []
    },
    {
      "cell_type": "code",
      "source": [
        "# Initialize a session so that we can run TensorFlow operations\n",
        "with tf.Session() as session:\n",
        "\n",
        "    # Run the global variable initializer to initialize all variables and layers of the neural network\n",
        "    session.run(tf.global_variables_initializer())\n",
        "\n",
        "    # Create log file writers to record training progress.\n",
        "    # We'll store training and testing log data separately.\n",
        "    training_writer = tf.summary.FileWriter('./logs/training', session.graph)\n",
        "    testing_writer = tf.summary.FileWriter('./logs/testing', session.graph)\n",
        "\n",
        "    # Run the optimizer over and over to train the network.\n",
        "    # One epoch is one full run through the training data set.\n",
        "    for epoch in range(training_epochs):\n",
        "\n",
        "        # Feed in the training data and do one step of neural network training\n",
        "        session.run(optimizer, feed_dict={X: X_scaled_training, Y: Y_scaled_training})\n",
        "\n",
        "        # Every 5 training steps, log our progress\n",
        "        if epoch % 5 == 0:\n",
        "            # Get the current accuracy scores by running the \"cost\" operation on the training and test data sets\n",
        "            training_cost, training_summary = session.run([cost, summary], feed_dict={X: X_scaled_training, Y:Y_scaled_training})\n",
        "            testing_cost, testing_summary = session.run([cost, summary], feed_dict={X: X_scaled_testing, Y:Y_scaled_testing})\n",
        "\n",
        "            # Write the current training status to the log files (Which we can view with TensorBoard)\n",
        "            training_writer.add_summary(training_summary, epoch)\n",
        "            testing_writer.add_summary(testing_summary, epoch)\n",
        "\n",
        "            # Print the current training status to the screen\n",
        "            print(\"Epoch: {} - Training Cost: {}  Testing Cost: {}\".format(epoch, training_cost, testing_cost))\n",
        "\n",
        "    # Training is now complete!\n",
        "\n",
        "    # Get the final accuracy scores by running the \"cost\" operation on the training and test data sets\n",
        "    final_training_cost = session.run(cost, feed_dict={X: X_scaled_training, Y: Y_scaled_training})\n",
        "    final_testing_cost = session.run(cost, feed_dict={X: X_scaled_testing, Y: Y_scaled_testing})\n",
        "\n",
        "    print(\"Final Training cost: {}\".format(final_training_cost))\n",
        "    print(\"Final Testing cost: {}\".format(final_testing_cost))\n",
        "\n",
        "    # Now that the neural network is trained, let's use it to make predictions for our test data.\n",
        "    # Pass in the X testing data and run the \"prediciton\" operation\n",
        "    Y_predicted_scaled = session.run(prediction, feed_dict={X: X_scaled_testing})\n",
        "\n",
        "    # Unscale the data back to it's original units (dollars)\n",
        "    Y_predicted = Y_scaler.inverse_transform(Y_predicted_scaled)\n",
        "\n",
        "    real_earnings = test_data_df['total_earnings'].values[0]\n",
        "    predicted_earnings = Y_predicted[0][0]\n",
        "\n",
        "    print(\"The actual earnings of Game #1 were ${}\".format(real_earnings))\n",
        "    print(\"Our neural network predicted earnings of ${}\".format(predicted_earnings))\n",
        "\n",
        "    save_path = saver.save(session, \"logs/trained_model.ckpt\")\n",
        "    print(\"Model saved: {}\".format(save_path))"
      ],
      "metadata": {
        "id": "wagetUZYc1e_"
      },
      "execution_count": null,
      "outputs": []
    }
  ]
}